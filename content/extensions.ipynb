{
 "cells": [
  {
   "cell_type": "markdown",
   "metadata": {},
   "source": [
    "# pglite extensions\n",
    "\n",
    "Examples of using extensions."
   ]
  },
  {
   "cell_type": "code",
   "execution_count": null,
   "metadata": {},
   "outputs": [],
   "source": [
    "# Package installation required in JupyterLite pyodide kernel\n",
    "# %pip install jupyter_anywidget_pglite anywidget==0.9.13"
   ]
  },
  {
   "cell_type": "code",
   "execution_count": 1,
   "metadata": {},
   "outputs": [
    {
     "data": {
      "application/vnd.jupyter.widget-view+json": {
       "model_id": "913514cc8038418385203c77b892bbb6",
       "version_major": 2,
       "version_minor": 1
      },
      "text/plain": [
       "postgresWidget(extensions=['vector', 'fuzzystrmatch', 'pg_trgm', 'tablefunc', 'isn'], headless=True, response=…"
      ]
     },
     "metadata": {},
     "output_type": "display_data"
    }
   ],
   "source": [
    "%load_ext jupyter_anywidget_pglite\n",
    "from jupyter_anywidget_pglite import pglite_headless\n",
    "\n",
    "pg_extensions = pglite_headless(extensions=[\"vector\", \"fuzzystrmatch\", \"pg_trgm\", \"tablefunc\", \"isn\"])\n"
   ]
  },
  {
   "cell_type": "code",
   "execution_count": 2,
   "metadata": {},
   "outputs": [
    {
     "data": {
      "text/plain": [
       "{'status': 'completed',\n",
       " 'response': {'rows': [{'?column?': 'hello'}],\n",
       "  'fields': [{'name': '?column?', 'dataTypeID': 25}],\n",
       "  'affectedRows': 0},\n",
       " 'response_type': 'single'}"
      ]
     },
     "execution_count": 2,
     "metadata": {},
     "output_type": "execute_result"
    }
   ],
   "source": [
    "%pglite_query -w pg_extensions -r -q \"SELECT 'hello';\""
   ]
  },
  {
   "cell_type": "code",
   "execution_count": 3,
   "metadata": {},
   "outputs": [
    {
     "data": {
      "text/plain": [
       "{'status': 'completed',\n",
       " 'response': {'rows': [{'soundex': 'H464'}],\n",
       "  'fields': [{'name': 'soundex', 'dataTypeID': 25}],\n",
       "  'affectedRows': 0},\n",
       " 'response_type': 'single'}"
      ]
     },
     "execution_count": 3,
     "metadata": {},
     "output_type": "execute_result"
    }
   ],
   "source": [
    "# From fuzzystrmatch\n",
    "%pglite_query -r -q \"SELECT soundex('hello world!');\""
   ]
  },
  {
   "cell_type": "code",
   "execution_count": 4,
   "metadata": {},
   "outputs": [
    {
     "data": {
      "text/plain": [
       "{'status': 'completed',\n",
       " 'response': {'rows': [{'similarity': 0.42857143}],\n",
       "  'fields': [{'name': 'similarity', 'dataTypeID': 700}],\n",
       "  'affectedRows': 0},\n",
       " 'response_type': 'single'}"
      ]
     },
     "execution_count": 4,
     "metadata": {},
     "output_type": "execute_result"
    }
   ],
   "source": [
    "# From trgm\n",
    "%pglite_query -r -q \"SELECT similarity('One sentence', 'Another sentence');\""
   ]
  },
  {
   "cell_type": "code",
   "execution_count": 5,
   "metadata": {},
   "outputs": [
    {
     "data": {
      "text/plain": [
       "{'status': 'completed',\n",
       " 'response': {'rows': [{'normal_rand': 10.358398823314673},\n",
       "   {'normal_rand': 2.0818356245740066},\n",
       "   {'normal_rand': 1.487923843832403},\n",
       "   {'normal_rand': 2.274051568980121},\n",
       "   {'normal_rand': 9.977887113552683},\n",
       "   {'normal_rand': 5.656965928070104},\n",
       "   {'normal_rand': 7.832544130615506},\n",
       "   {'normal_rand': 8.182109798935912},\n",
       "   {'normal_rand': 2.522479545846064},\n",
       "   {'normal_rand': 3.6222561629130743}],\n",
       "  'fields': [{'name': 'normal_rand', 'dataTypeID': 701}],\n",
       "  'affectedRows': 0},\n",
       " 'response_type': 'single'}"
      ]
     },
     "execution_count": 5,
     "metadata": {},
     "output_type": "execute_result"
    }
   ],
   "source": [
    "%pglite_query -r -q \"SELECT * FROM normal_rand(10, 5, 3);\""
   ]
  },
  {
   "cell_type": "code",
   "execution_count": 5,
   "metadata": {},
   "outputs": [
    {
     "data": {
      "text/plain": [
       "{'status': 'completed',\n",
       " 'response': {'rows': [{'isbn13': '978-0-901690-54-8'}],\n",
       "  'fields': [{'name': 'isbn13', 'dataTypeID': 16831}],\n",
       "  'affectedRows': 0},\n",
       " 'response_type': 'single'}"
      ]
     },
     "execution_count": 5,
     "metadata": {},
     "output_type": "execute_result"
    }
   ],
   "source": [
    "%pglite_query -r -q \"SELECT isbn13('0901690546');\""
   ]
  },
  {
   "cell_type": "code",
   "execution_count": null,
   "metadata": {},
   "outputs": [],
   "source": []
  }
 ],
 "metadata": {
  "kernelspec": {
   "display_name": "Python 3",
   "language": "python",
   "name": "python3"
  },
  "language_info": {
   "codemirror_mode": {
    "name": "ipython",
    "version": 3
   },
   "file_extension": ".py",
   "mimetype": "text/x-python",
   "name": "python",
   "nbconvert_exporter": "python",
   "pygments_lexer": "ipython3",
   "version": "3.11.0"
  }
 },
 "nbformat": 4,
 "nbformat_minor": 4
}
