{
 "cells": [
  {
   "cell_type": "markdown",
   "metadata": {},
   "source": [
    "# pglite extensions\n",
    "\n",
    "Examples of using extensions."
   ]
  },
  {
   "cell_type": "code",
   "execution_count": null,
   "metadata": {},
   "outputs": [],
   "source": [
    "# Package installation required in JupyterLite pyodide kernel\n",
    "# %pip install jupyter_anywidget_pglite anywidget==0.9.13 sqlalchemy"
   ]
  },
  {
   "cell_type": "code",
   "execution_count": 1,
   "metadata": {},
   "outputs": [
    {
     "data": {
      "application/vnd.jupyter.widget-view+json": {
       "model_id": "9fd804c130c24c5e862ec5c56d103a7c",
       "version_major": 2,
       "version_minor": 1
      },
      "text/plain": [
       "postgresWidget(extensions=['vector', 'fuzzystrmatch', 'pg_trgm', 'tablefunc', 'isn'], headless=True, response=…"
      ]
     },
     "metadata": {},
     "output_type": "display_data"
    }
   ],
   "source": [
    "%load_ext jupyter_anywidget_pglite\n",
    "from jupyter_anywidget_pglite import pglite_headless\n",
    "\n",
    "pg_extensions = pglite_headless(extensions=[\"vector\", \"fuzzystrmatch\", \"pg_trgm\", \"tablefunc\", \"isn\"])\n"
   ]
  },
  {
   "cell_type": "code",
   "execution_count": 2,
   "metadata": {},
   "outputs": [
    {
     "data": {
      "text/plain": [
       "{'status': 'completed',\n",
       " 'response': {'rows': [{'?column?': 'hello'}],\n",
       "  'fields': [{'name': '?column?', 'dataTypeID': 25}],\n",
       "  'affectedRows': 0},\n",
       " 'response_type': 'single'}"
      ]
     },
     "execution_count": 2,
     "metadata": {},
     "output_type": "execute_result"
    }
   ],
   "source": [
    "%pglite_query -w pg_extensions -r -q \"SELECT 'hello';\""
   ]
  },
  {
   "cell_type": "code",
   "execution_count": 3,
   "metadata": {},
   "outputs": [
    {
     "data": {
      "text/plain": [
       "{'status': 'completed',\n",
       " 'response': {'rows': [{'soundex': 'H464'}],\n",
       "  'fields': [{'name': 'soundex', 'dataTypeID': 25}],\n",
       "  'affectedRows': 0},\n",
       " 'response_type': 'single'}"
      ]
     },
     "execution_count": 3,
     "metadata": {},
     "output_type": "execute_result"
    }
   ],
   "source": [
    "# From fuzzystrmatch\n",
    "%pglite_query -r -q \"SELECT soundex('hello world!');\""
   ]
  },
  {
   "cell_type": "code",
   "execution_count": 4,
   "metadata": {},
   "outputs": [
    {
     "data": {
      "text/plain": [
       "{'status': 'completed',\n",
       " 'response': {'rows': [{'similarity': 0.42857143}],\n",
       "  'fields': [{'name': 'similarity', 'dataTypeID': 700}],\n",
       "  'affectedRows': 0},\n",
       " 'response_type': 'single'}"
      ]
     },
     "execution_count": 4,
     "metadata": {},
     "output_type": "execute_result"
    }
   ],
   "source": [
    "# From trgm\n",
    "%pglite_query -r -q \"SELECT similarity('One sentence', 'Another sentence');\""
   ]
  },
  {
   "cell_type": "code",
   "execution_count": 5,
   "metadata": {},
   "outputs": [
    {
     "data": {
      "text/plain": [
       "{'status': 'completed',\n",
       " 'response': {'rows': [{'normal_rand': 4.152281228574335},\n",
       "   {'normal_rand': 3.580076373619939},\n",
       "   {'normal_rand': 6.150207528061478},\n",
       "   {'normal_rand': 6.1941524317864},\n",
       "   {'normal_rand': 3.9853476282035523},\n",
       "   {'normal_rand': 0.6472476821054878},\n",
       "   {'normal_rand': 2.618601184131011},\n",
       "   {'normal_rand': 5.382557625368834},\n",
       "   {'normal_rand': 0.19066079422444382},\n",
       "   {'normal_rand': 7.846278844800899}],\n",
       "  'fields': [{'name': 'normal_rand', 'dataTypeID': 701}],\n",
       "  'affectedRows': 0},\n",
       " 'response_type': 'single'}"
      ]
     },
     "execution_count": 5,
     "metadata": {},
     "output_type": "execute_result"
    }
   ],
   "source": [
    "%pglite_query -r -q \"SELECT * FROM normal_rand(10, 5, 3);\""
   ]
  },
  {
   "cell_type": "code",
   "execution_count": 6,
   "metadata": {},
   "outputs": [
    {
     "data": {
      "text/plain": [
       "{'status': 'completed',\n",
       " 'response': {'rows': [{'isbn13': '978-0-901690-54-8'}],\n",
       "  'fields': [{'name': 'isbn13', 'dataTypeID': 16831}],\n",
       "  'affectedRows': 0},\n",
       " 'response_type': 'single'}"
      ]
     },
     "execution_count": 6,
     "metadata": {},
     "output_type": "execute_result"
    }
   ],
   "source": [
    "%pglite_query -r -q \"SELECT isbn13('0901690546');\""
   ]
  },
  {
   "cell_type": "code",
   "execution_count": null,
   "metadata": {},
   "outputs": [],
   "source": []
  },
  {
   "cell_type": "code",
   "execution_count": null,
   "metadata": {},
   "outputs": [],
   "source": []
  }
 ],
 "metadata": {
  "kernelspec": {
   "display_name": "Python 3",
   "language": "python",
   "name": "python3"
  },
  "language_info": {
   "codemirror_mode": {
    "name": "ipython",
    "version": 3
   },
   "file_extension": ".py",
   "mimetype": "text/x-python",
   "name": "python",
   "nbconvert_exporter": "python",
   "pygments_lexer": "ipython3",
   "version": "3.11.0"
  }
 },
 "nbformat": 4,
 "nbformat_minor": 4
}
