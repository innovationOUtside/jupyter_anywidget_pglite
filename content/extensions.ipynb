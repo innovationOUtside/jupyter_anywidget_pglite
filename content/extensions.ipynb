{
 "cells": [
  {
   "cell_type": "markdown",
   "metadata": {},
   "source": [
    "# pglite extensions\n",
    "\n",
    "Examples of using extensions."
   ]
  },
  {
   "cell_type": "code",
   "execution_count": 5,
   "metadata": {},
   "outputs": [
    {
     "name": "stdout",
     "output_type": "stream",
     "text": [
      "The jupyter_anywidget_pglite extension is already loaded. To reload it, use:\n",
      "  %reload_ext jupyter_anywidget_pglite\n"
     ]
    },
    {
     "data": {
      "application/vnd.jupyter.widget-view+json": {
       "model_id": "b91abb2b51d5459c91defcf4789c336d",
       "version_major": 2,
       "version_minor": 1
      },
      "text/plain": [
       "postgresWidget(extensions=['vector', 'fuzzystrmatch', 'pg_trgm', 'tablefunc'], headless=True, response={'statu…"
      ]
     },
     "metadata": {},
     "output_type": "display_data"
    }
   ],
   "source": [
    "%load_ext jupyter_anywidget_pglite\n",
    "from jupyter_anywidget_pglite import pglite_headless\n",
    "\n",
    "pg_extensions = pglite_headless(extensions=[\"vector\", \"fuzzystrmatch\", \"pg_trgm\", \"tablefunc\"])\n"
   ]
  },
  {
   "cell_type": "code",
   "execution_count": 6,
   "metadata": {},
   "outputs": [
    {
     "data": {
      "text/plain": [
       "{'status': 'completed',\n",
       " 'response': {'rows': [{'?column?': 'hello'}],\n",
       "  'fields': [{'name': '?column?', 'dataTypeID': 25}],\n",
       "  'affectedRows': 0},\n",
       " 'response_type': 'single'}"
      ]
     },
     "execution_count": 6,
     "metadata": {},
     "output_type": "execute_result"
    }
   ],
   "source": [
    "%pglite_query -w pg_extensions -r -q \"SELECT 'hello';\""
   ]
  },
  {
   "cell_type": "code",
   "execution_count": 3,
   "metadata": {},
   "outputs": [
    {
     "data": {
      "text/plain": [
       "{'status': 'completed',\n",
       " 'response': {'rows': [{'soundex': 'H464'}],\n",
       "  'fields': [{'name': 'soundex', 'dataTypeID': 25}],\n",
       "  'affectedRows': 0},\n",
       " 'response_type': 'single'}"
      ]
     },
     "execution_count": 3,
     "metadata": {},
     "output_type": "execute_result"
    }
   ],
   "source": [
    "# From fuzzystrmatch\n",
    "%pglite_query -r -q \"SELECT soundex('hello world!');\""
   ]
  },
  {
   "cell_type": "code",
   "execution_count": 4,
   "metadata": {},
   "outputs": [
    {
     "data": {
      "text/plain": [
       "{'status': 'completed',\n",
       " 'response': {'rows': [{'similarity': 0.42857143}],\n",
       "  'fields': [{'name': 'similarity', 'dataTypeID': 700}],\n",
       "  'affectedRows': 0},\n",
       " 'response_type': 'single'}"
      ]
     },
     "execution_count": 4,
     "metadata": {},
     "output_type": "execute_result"
    }
   ],
   "source": [
    "# From trgm\n",
    "%pglite_query -r -q \"SELECT similarity('One sentence', 'Another sentence');\""
   ]
  },
  {
   "cell_type": "code",
   "execution_count": 8,
   "metadata": {},
   "outputs": [
    {
     "data": {
      "text/plain": [
       "{'status': 'completed',\n",
       " 'response': {'rows': [{'normal_rand': 3.3534650624394957},\n",
       "   {'normal_rand': 2.507546038397705},\n",
       "   {'normal_rand': -0.3027484767082136},\n",
       "   {'normal_rand': 10.076386442951215},\n",
       "   {'normal_rand': 3.7307468091752454},\n",
       "   {'normal_rand': 4.523096906882513},\n",
       "   {'normal_rand': 2.765863754491207},\n",
       "   {'normal_rand': 6.72534379021873},\n",
       "   {'normal_rand': 2.805330222556591},\n",
       "   {'normal_rand': 7.8838029266594125}],\n",
       "  'fields': [{'name': 'normal_rand', 'dataTypeID': 701}],\n",
       "  'affectedRows': 0},\n",
       " 'response_type': 'single'}"
      ]
     },
     "execution_count": 8,
     "metadata": {},
     "output_type": "execute_result"
    }
   ],
   "source": [
    "%pglite_query -r -q \"SELECT * FROM normal_rand(10, 5, 3);\""
   ]
  },
  {
   "cell_type": "code",
   "execution_count": null,
   "metadata": {},
   "outputs": [],
   "source": []
  }
 ],
 "metadata": {
  "kernelspec": {
   "display_name": "Python 3 (ipykernel)",
   "language": "python",
   "name": "python3"
  },
  "language_info": {
   "codemirror_mode": {
    "name": "ipython",
    "version": 3
   },
   "file_extension": ".py",
   "mimetype": "text/x-python",
   "name": "python",
   "nbconvert_exporter": "python",
   "pygments_lexer": "ipython3",
   "version": "3.11.0"
  }
 },
 "nbformat": 4,
 "nbformat_minor": 4
}
