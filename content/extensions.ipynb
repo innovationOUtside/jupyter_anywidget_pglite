{
 "cells": [
  {
   "cell_type": "markdown",
   "metadata": {},
   "source": [
    "# pglite extensions\n",
    "\n",
    "Examples of using extensions."
   ]
  },
  {
   "cell_type": "code",
   "execution_count": 1,
   "metadata": {},
   "outputs": [
    {
     "data": {
      "application/vnd.jupyter.widget-view+json": {
       "model_id": "a5730c730e444fcab96986c9355a6203",
       "version_major": 2,
       "version_minor": 1
      },
      "text/plain": [
       "postgresWidget(extensions=['vector', 'fuzzystrmatch', 'pg_trgm', 'tablefunc', 'isn'], headless=True, response=…"
      ]
     },
     "metadata": {},
     "output_type": "display_data"
    }
   ],
   "source": [
    "%load_ext jupyter_anywidget_pglite\n",
    "from jupyter_anywidget_pglite import pglite_headless\n",
    "\n",
    "pg_extensions = pglite_headless(extensions=[\"vector\", \"fuzzystrmatch\", \"pg_trgm\", \"tablefunc\", \"isn\"])\n"
   ]
  },
  {
   "cell_type": "code",
   "execution_count": 2,
   "metadata": {},
   "outputs": [
    {
     "data": {
      "text/plain": [
       "{'status': 'completed',\n",
       " 'response': {'rows': [{'?column?': 'hello'}],\n",
       "  'fields': [{'name': '?column?', 'dataTypeID': 25}],\n",
       "  'affectedRows': 0},\n",
       " 'response_type': 'single'}"
      ]
     },
     "execution_count": 2,
     "metadata": {},
     "output_type": "execute_result"
    }
   ],
   "source": [
    "%pglite_query -w pg_extensions -r -q \"SELECT 'hello';\""
   ]
  },
  {
   "cell_type": "code",
   "execution_count": 3,
   "metadata": {},
   "outputs": [
    {
     "data": {
      "text/plain": [
       "{'status': 'completed',\n",
       " 'response': {'rows': [{'soundex': 'H464'}],\n",
       "  'fields': [{'name': 'soundex', 'dataTypeID': 25}],\n",
       "  'affectedRows': 0},\n",
       " 'response_type': 'single'}"
      ]
     },
     "execution_count": 3,
     "metadata": {},
     "output_type": "execute_result"
    }
   ],
   "source": [
    "# From fuzzystrmatch\n",
    "%pglite_query -r -q \"SELECT soundex('hello world!');\""
   ]
  },
  {
   "cell_type": "code",
   "execution_count": 4,
   "metadata": {},
   "outputs": [
    {
     "data": {
      "text/plain": [
       "{'status': 'completed',\n",
       " 'response': {'rows': [{'similarity': 0.42857143}],\n",
       "  'fields': [{'name': 'similarity', 'dataTypeID': 700}],\n",
       "  'affectedRows': 0},\n",
       " 'response_type': 'single'}"
      ]
     },
     "execution_count": 4,
     "metadata": {},
     "output_type": "execute_result"
    }
   ],
   "source": [
    "# From trgm\n",
    "%pglite_query -r -q \"SELECT similarity('One sentence', 'Another sentence');\""
   ]
  },
  {
   "cell_type": "code",
   "execution_count": 10,
   "metadata": {},
   "outputs": [
    {
     "data": {
      "text/plain": [
       "{'status': 'completed',\n",
       " 'response': {'rows': [{'normal_rand': 7.6325124941069635},\n",
       "   {'normal_rand': 3.101350253851102},\n",
       "   {'normal_rand': 9.526517768335475},\n",
       "   {'normal_rand': 5.360666276119556},\n",
       "   {'normal_rand': 3.7232410925674677},\n",
       "   {'normal_rand': 4.110603266316842},\n",
       "   {'normal_rand': 3.334141608825856},\n",
       "   {'normal_rand': 5.559532857270019},\n",
       "   {'normal_rand': 7.018598120639732},\n",
       "   {'normal_rand': -2.8858643556413046}],\n",
       "  'fields': [{'name': 'normal_rand', 'dataTypeID': 701}],\n",
       "  'affectedRows': 0},\n",
       " 'response_type': 'single'}"
      ]
     },
     "execution_count": 10,
     "metadata": {},
     "output_type": "execute_result"
    }
   ],
   "source": [
    "%pglite_query -r -q \"SELECT * FROM normal_rand(10, 5, 3);\""
   ]
  },
  {
   "cell_type": "code",
   "execution_count": 5,
   "metadata": {},
   "outputs": [
    {
     "data": {
      "text/plain": [
       "{'status': 'completed',\n",
       " 'response': {'rows': [{'isbn13': '978-0-901690-54-8'}],\n",
       "  'fields': [{'name': 'isbn13', 'dataTypeID': 16831}],\n",
       "  'affectedRows': 0},\n",
       " 'response_type': 'single'}"
      ]
     },
     "execution_count": 5,
     "metadata": {},
     "output_type": "execute_result"
    }
   ],
   "source": [
    "%pglite_query -r -q \"SELECT isbn13('0901690546');\""
   ]
  },
  {
   "cell_type": "code",
   "execution_count": null,
   "metadata": {},
   "outputs": [],
   "source": []
  }
 ],
 "metadata": {
  "kernelspec": {
   "display_name": "Python 3 (ipykernel)",
   "language": "python",
   "name": "python3"
  },
  "language_info": {
   "codemirror_mode": {
    "name": "ipython",
    "version": 3
   },
   "file_extension": ".py",
   "mimetype": "text/x-python",
   "name": "python",
   "nbconvert_exporter": "python",
   "pygments_lexer": "ipython3",
   "version": "3.11.0"
  }
 },
 "nbformat": 4,
 "nbformat_minor": 4
}
