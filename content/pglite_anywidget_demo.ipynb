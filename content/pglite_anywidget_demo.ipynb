{
 "cells": [
  {
   "cell_type": "markdown",
   "metadata": {},
   "source": [
    "# Jupyter pglite anywidget demo\n",
    "\n",
    "Demo of using `jupyterlite_anywidget_pglite` widget and magics.\n",
    "\n",
    "Works in:\n",
    "\n",
    "- Jupyter UIs (JupyterLab, Jupyter notebook)\n",
    "- VS Code (via Jupyter notebook support)"
   ]
  },
  {
   "cell_type": "code",
   "execution_count": null,
   "metadata": {},
   "outputs": [],
   "source": [
    "# Package installation required in JupyterLite pyodide kernel\n",
    "# %pip install jupyter_anywidget_pglite anywidget==0.9.13 sqlalchemy"
   ]
  },
  {
   "cell_type": "markdown",
   "metadata": {},
   "source": [
    "## Headless Demo\n",
    "\n",
    "In the headless demo, no HTML UI elements are added to the DOM, but the `anywidget` machinery *is* added via a call to `IPython.display.display`."
   ]
  },
  {
   "cell_type": "code",
   "execution_count": 1,
   "metadata": {},
   "outputs": [],
   "source": [
    "%load_ext jupyter_anywidget_pglite\n",
    "from jupyter_anywidget_pglite import pglite_headless"
   ]
  },
  {
   "cell_type": "code",
   "execution_count": 2,
   "metadata": {},
   "outputs": [
    {
     "data": {
      "application/vnd.jupyter.widget-view+json": {
       "model_id": "cf655cc2e3a5429d816ca357ff4af219",
       "version_major": 2,
       "version_minor": 1
      },
      "text/plain": [
       "postgresWidget(headless=True, response={'status': 'initialising'})"
      ]
     },
     "metadata": {},
     "output_type": "display_data"
    }
   ],
   "source": [
    "pg_headless = pglite_headless()\n",
    "pg_headless.ready()"
   ]
  },
  {
   "cell_type": "code",
   "execution_count": 3,
   "metadata": {},
   "outputs": [
    {
     "data": {
      "text/plain": [
       "{'status': 'completed',\n",
       " 'response': {'rows': [{'?column?': 'hello'}],\n",
       "  'fields': [{'name': '?column?', 'dataTypeID': 25}],\n",
       "  'affectedRows': 0},\n",
       " 'response_type': 'single'}"
      ]
     },
     "execution_count": 3,
     "metadata": {},
     "output_type": "execute_result"
    }
   ],
   "source": [
    "pg_headless.query(\"SELECT 'hello';\")"
   ]
  },
  {
   "cell_type": "code",
   "execution_count": 4,
   "metadata": {},
   "outputs": [
    {
     "data": {
      "text/plain": [
       "{'status': 'completed',\n",
       " 'response': {'rows': [{'?column?': 'hello'}],\n",
       "  'fields': [{'name': '?column?', 'dataTypeID': 25}],\n",
       "  'affectedRows': 0},\n",
       " 'response_type': 'single'}"
      ]
     },
     "execution_count": 4,
     "metadata": {},
     "output_type": "execute_result"
    }
   ],
   "source": [
    "pg_headless.response"
   ]
  },
  {
   "cell_type": "code",
   "execution_count": 5,
   "metadata": {},
   "outputs": [
    {
     "data": {
      "text/plain": [
       "{'status': 'completed',\n",
       " 'response': [{'rows': [{'?column?': 'hello'}],\n",
       "   'fields': [{'name': '?column?', 'dataTypeID': 25}],\n",
       "   'affectedRows': 0},\n",
       "  {'rows': [{'?column?': 'goodbye'}],\n",
       "   'fields': [{'name': '?column?', 'dataTypeID': 25}],\n",
       "   'affectedRows': 0}],\n",
       " 'response_type': 'multi'}"
      ]
     },
     "execution_count": 5,
     "metadata": {},
     "output_type": "execute_result"
    }
   ],
   "source": [
    "# If blocking available (autorespond=True)\n",
    "# We can pass in multiple statements and receivie multiple responses\n",
    "# by setting multi=True\n",
    "pg_headless.query(\"SELECT 'hello'; SELECT 'goodbye';\", multi=True, autorespond=True)"
   ]
  },
  {
   "cell_type": "code",
   "execution_count": 6,
   "metadata": {},
   "outputs": [
    {
     "data": {
      "text/plain": [
       "{'status': 'completed',\n",
       " 'response': [{'rows': [{'?column?': 'hello'}],\n",
       "   'fields': [{'name': '?column?', 'dataTypeID': 25}],\n",
       "   'affectedRows': 0},\n",
       "  {'rows': [{'?column?': 'goodbye'}],\n",
       "   'fields': [{'name': '?column?', 'dataTypeID': 25}],\n",
       "   'affectedRows': 0}],\n",
       " 'response_type': 'multi'}"
      ]
     },
     "execution_count": 6,
     "metadata": {},
     "output_type": "execute_result"
    }
   ],
   "source": [
    "# If we are in JupyterLite, where there is no blocking\n",
    "# we need to wait a moment and then view the response\n",
    "pg_headless.response"
   ]
  },
  {
   "cell_type": "code",
   "execution_count": 7,
   "metadata": {},
   "outputs": [
    {
     "data": {
      "text/plain": [
       "{'status': 'completed',\n",
       " 'response': {'rows': [{'?column?': 'hello'}],\n",
       "  'fields': [{'name': '?column?', 'dataTypeID': 25}],\n",
       "  'affectedRows': 0},\n",
       " 'response_type': 'single'}"
      ]
     },
     "execution_count": 7,
     "metadata": {},
     "output_type": "execute_result"
    }
   ],
   "source": [
    "# by default, we assume a single query (multi=False)\n",
    "pg_headless.query(\"SELECT 'hello';\", autorespond=True)"
   ]
  },
  {
   "cell_type": "code",
   "execution_count": 8,
   "metadata": {},
   "outputs": [
    {
     "data": {
      "text/plain": [
       "{'status': 'completed',\n",
       " 'response': {'rows': [{'?column?': 'hello'}],\n",
       "  'fields': [{'name': '?column?', 'dataTypeID': 25}],\n",
       "  'affectedRows': 0},\n",
       " 'response_type': 'single'}"
      ]
     },
     "execution_count": 8,
     "metadata": {},
     "output_type": "execute_result"
    }
   ],
   "source": [
    "# If we are in JupyterLite, where there is no blocking\n",
    "# we need to wait a moment and then view the response\n",
    "pg_headless.response"
   ]
  },
  {
   "cell_type": "code",
   "execution_count": 9,
   "metadata": {},
   "outputs": [],
   "source": [
    "%%pglite_magic -w pg_headless\n",
    "CREATE TABLE IF NOT EXISTS test  (\n",
    "        id serial primary key,\n",
    "        title varchar not null\n",
    "      );"
   ]
  },
  {
   "cell_type": "code",
   "execution_count": 10,
   "metadata": {},
   "outputs": [
    {
     "data": {
      "text/plain": [
       "['test']"
      ]
     },
     "execution_count": 10,
     "metadata": {},
     "output_type": "execute_result"
    }
   ],
   "source": [
    "# Show tables\n",
    "pg_headless.tables(autorespond=True)"
   ]
  },
  {
   "cell_type": "code",
   "execution_count": 11,
   "metadata": {},
   "outputs": [
    {
     "data": {
      "text/plain": [
       "'No autoresponse available. View results in response using .table_results()'"
      ]
     },
     "metadata": {},
     "output_type": "display_data"
    }
   ],
   "source": [
    "pg_headless.tables(autorespond=False)"
   ]
  },
  {
   "cell_type": "code",
   "execution_count": 12,
   "metadata": {},
   "outputs": [
    {
     "data": {
      "text/plain": [
       "['test']"
      ]
     },
     "execution_count": 12,
     "metadata": {},
     "output_type": "execute_result"
    }
   ],
   "source": [
    "pg_headless.table_results()"
   ]
  },
  {
   "cell_type": "code",
   "execution_count": 13,
   "metadata": {},
   "outputs": [
    {
     "data": {
      "text/plain": [
       "{'status': 'completed',\n",
       " 'response': {'rows': [{'column_name': 'id',\n",
       "    'data_type': 'integer',\n",
       "    'character_maximum_length': None,\n",
       "    'is_nullable': 'NO',\n",
       "    'column_default': \"nextval('test_id_seq'::regclass)\"},\n",
       "   {'column_name': 'title',\n",
       "    'data_type': 'character varying',\n",
       "    'character_maximum_length': None,\n",
       "    'is_nullable': 'NO',\n",
       "    'column_default': None}],\n",
       "  'fields': [{'name': 'column_name', 'dataTypeID': 19},\n",
       "   {'name': 'data_type', 'dataTypeID': 1043},\n",
       "   {'name': 'character_maximum_length', 'dataTypeID': 23},\n",
       "   {'name': 'is_nullable', 'dataTypeID': 1043},\n",
       "   {'name': 'column_default', 'dataTypeID': 1043}],\n",
       "  'affectedRows': 0},\n",
       " 'response_type': 'single'}"
      ]
     },
     "execution_count": 13,
     "metadata": {},
     "output_type": "execute_result"
    }
   ],
   "source": [
    "# Show table schema\n",
    "pg_headless.table_schema(\"test\", autorespond=True)"
   ]
  },
  {
   "cell_type": "code",
   "execution_count": 14,
   "metadata": {},
   "outputs": [],
   "source": [
    "%%pglite_magic -w pg_headless\n",
    "INSERT INTO test (title) VALUES ('dummy_headless');\n"
   ]
  },
  {
   "cell_type": "code",
   "execution_count": 15,
   "metadata": {},
   "outputs": [
    {
     "data": {
      "text/plain": [
       "{'status': 'completed',\n",
       " 'response': {'rows': [{'id': 1, 'title': 'dummy_headless'}],\n",
       "  'fields': [{'name': 'id', 'dataTypeID': 23},\n",
       "   {'name': 'title', 'dataTypeID': 1043}],\n",
       "  'affectedRows': 0},\n",
       " 'response_type': 'single'}"
      ]
     },
     "execution_count": 15,
     "metadata": {},
     "output_type": "execute_result"
    }
   ],
   "source": [
    "%%pglite_magic -w pg_headless -r\n",
    "SELECT * FROM test;"
   ]
  },
  {
   "cell_type": "markdown",
   "metadata": {},
   "source": [
    "Use the `.df()` method on the widget to display a query result as a `pandas` dafaframe, if pandas is installed."
   ]
  },
  {
   "cell_type": "code",
   "execution_count": 16,
   "metadata": {},
   "outputs": [
    {
     "data": {
      "application/vnd.microsoft.datawrangler.viewer.v0+json": {
       "columns": [
        {
         "name": "index",
         "rawType": "int64",
         "type": "integer"
        },
        {
         "name": "id",
         "rawType": "int64",
         "type": "integer"
        },
        {
         "name": "title",
         "rawType": "object",
         "type": "string"
        }
       ],
       "conversionMethod": "pd.DataFrame",
       "ref": "e33cbd3c-79e7-492f-b985-c8f32dbbc9e2",
       "rows": [
        [
         "0",
         "1",
         "dummy_headless"
        ]
       ],
       "shape": {
        "columns": 2,
        "rows": 1
       }
      },
      "text/html": [
       "<div>\n",
       "<style scoped>\n",
       "    .dataframe tbody tr th:only-of-type {\n",
       "        vertical-align: middle;\n",
       "    }\n",
       "\n",
       "    .dataframe tbody tr th {\n",
       "        vertical-align: top;\n",
       "    }\n",
       "\n",
       "    .dataframe thead th {\n",
       "        text-align: right;\n",
       "    }\n",
       "</style>\n",
       "<table border=\"1\" class=\"dataframe\">\n",
       "  <thead>\n",
       "    <tr style=\"text-align: right;\">\n",
       "      <th></th>\n",
       "      <th>id</th>\n",
       "      <th>title</th>\n",
       "    </tr>\n",
       "  </thead>\n",
       "  <tbody>\n",
       "    <tr>\n",
       "      <th>0</th>\n",
       "      <td>1</td>\n",
       "      <td>dummy_headless</td>\n",
       "    </tr>\n",
       "  </tbody>\n",
       "</table>\n",
       "</div>"
      ],
      "text/plain": [
       "   id           title\n",
       "0   1  dummy_headless"
      ]
     },
     "execution_count": 16,
     "metadata": {},
     "output_type": "execute_result"
    }
   ],
   "source": [
    "pg_headless.df()"
   ]
  },
  {
   "cell_type": "markdown",
   "metadata": {},
   "source": [
    "## Inserting Data\n",
    "\n",
    "If we have a table already defined on the database, and a dataframe that confoms to it, we can add the data in the dataframe to the table as follows:"
   ]
  },
  {
   "cell_type": "code",
   "execution_count": null,
   "metadata": {},
   "outputs": [
    {
     "data": {
      "text/plain": [
       "{'status': 'completed',\n",
       " 'response': {'rows': [], 'fields': [], 'affectedRows': 3},\n",
       " 'response_type': 'single'}"
      ]
     },
     "execution_count": 17,
     "metadata": {},
     "output_type": "execute_result"
    }
   ],
   "source": [
    "import pandas as pd\n",
    "\n",
    "df = pd.DataFrame({\"title\": [\"a\", \"b\", \"c\"]})\n",
    "\n",
    "# Insert data from a dataframe into a table that already exists\n",
    "pg_headless.insert_from_df(\"test\", df, autorespond=True)"
   ]
  },
  {
   "cell_type": "code",
   "execution_count": 18,
   "metadata": {},
   "outputs": [],
   "source": [
    "# We can insert a dataframe into a pre-existing table\n",
    "# Broken??\n",
    "df = pd.DataFrame({\"title\":[\"d\",\"e\",\"f\"]})\n",
    "%pglite_df_insert -d df -t test;"
   ]
  },
  {
   "cell_type": "code",
   "execution_count": 19,
   "metadata": {},
   "outputs": [
    {
     "data": {
      "text/plain": [
       "{'status': 'completed',\n",
       " 'response': {'rows': [{'id': 1, 'title': 'dummy_headless'},\n",
       "   {'id': 2, 'title': 'a'},\n",
       "   {'id': 3, 'title': 'b'},\n",
       "   {'id': 4, 'title': 'c'}],\n",
       "  'fields': [{'name': 'id', 'dataTypeID': 23},\n",
       "   {'name': 'title', 'dataTypeID': 1043}],\n",
       "  'affectedRows': 0},\n",
       " 'response_type': 'single'}"
      ]
     },
     "execution_count": 19,
     "metadata": {},
     "output_type": "execute_result"
    }
   ],
   "source": [
    "pg_headless.query(\"SELECT * FROM test;\", autorespond=True)"
   ]
  },
  {
   "cell_type": "markdown",
   "metadata": {},
   "source": [
    "## Database connections\n",
    "\n",
    "(Via claude.ai), minimal support for DBAPI2 and SQLAlchmey connections is provided to the extent of allowing read actions using `pd.read_sql()`:"
   ]
  },
  {
   "cell_type": "code",
   "execution_count": 20,
   "metadata": {},
   "outputs": [
    {
     "name": "stderr",
     "output_type": "stream",
     "text": [
      "/var/folders/10/8lp40z8x2hj_cch9j4rk_cpm0000gs/T/ipykernel_22648/3440347236.py:5: UserWarning: pandas only supports SQLAlchemy connectable (engine/connection) or database string URI or sqlite3 DBAPI2 connection. Other DBAPI2 objects are not tested. Please consider using SQLAlchemy.\n",
      "  pd.read_sql(\"SELECT * FROM test;\", conn)\n"
     ]
    },
    {
     "data": {
      "application/vnd.microsoft.datawrangler.viewer.v0+json": {
       "columns": [
        {
         "name": "index",
         "rawType": "int64",
         "type": "integer"
        },
        {
         "name": "id",
         "rawType": "int64",
         "type": "integer"
        },
        {
         "name": "title",
         "rawType": "object",
         "type": "string"
        }
       ],
       "conversionMethod": "pd.DataFrame",
       "ref": "92139e3c-53d2-4908-8f51-a59be1457d35",
       "rows": [
        [
         "0",
         "1",
         "dummy_headless"
        ],
        [
         "1",
         "2",
         "a"
        ],
        [
         "2",
         "3",
         "b"
        ],
        [
         "3",
         "4",
         "c"
        ]
       ],
       "shape": {
        "columns": 2,
        "rows": 4
       }
      },
      "text/html": [
       "<div>\n",
       "<style scoped>\n",
       "    .dataframe tbody tr th:only-of-type {\n",
       "        vertical-align: middle;\n",
       "    }\n",
       "\n",
       "    .dataframe tbody tr th {\n",
       "        vertical-align: top;\n",
       "    }\n",
       "\n",
       "    .dataframe thead th {\n",
       "        text-align: right;\n",
       "    }\n",
       "</style>\n",
       "<table border=\"1\" class=\"dataframe\">\n",
       "  <thead>\n",
       "    <tr style=\"text-align: right;\">\n",
       "      <th></th>\n",
       "      <th>id</th>\n",
       "      <th>title</th>\n",
       "    </tr>\n",
       "  </thead>\n",
       "  <tbody>\n",
       "    <tr>\n",
       "      <th>0</th>\n",
       "      <td>1</td>\n",
       "      <td>dummy_headless</td>\n",
       "    </tr>\n",
       "    <tr>\n",
       "      <th>1</th>\n",
       "      <td>2</td>\n",
       "      <td>a</td>\n",
       "    </tr>\n",
       "    <tr>\n",
       "      <th>2</th>\n",
       "      <td>3</td>\n",
       "      <td>b</td>\n",
       "    </tr>\n",
       "    <tr>\n",
       "      <th>3</th>\n",
       "      <td>4</td>\n",
       "      <td>c</td>\n",
       "    </tr>\n",
       "  </tbody>\n",
       "</table>\n",
       "</div>"
      ],
      "text/plain": [
       "   id           title\n",
       "0   1  dummy_headless\n",
       "1   2               a\n",
       "2   3               b\n",
       "3   4               c"
      ]
     },
     "execution_count": 20,
     "metadata": {},
     "output_type": "execute_result"
    }
   ],
   "source": [
    "import pandas as pd\n",
    "from jupyter_anywidget_pglite.dbapi2 import create_connection\n",
    "\n",
    "conn = create_connection(pg_headless)\n",
    "pd.read_sql(\"SELECT * FROM test;\", conn)"
   ]
  },
  {
   "cell_type": "code",
   "execution_count": 21,
   "metadata": {},
   "outputs": [
    {
     "ename": "NameError",
     "evalue": "name 'conn2' is not defined",
     "output_type": "error",
     "traceback": [
      "\u001b[0;31m---------------------------------------------------------------------------\u001b[0m",
      "\u001b[0;31mNameError\u001b[0m                                 Traceback (most recent call last)",
      "Cell \u001b[0;32mIn[21], line 5\u001b[0m\n\u001b[1;32m      2\u001b[0m \u001b[38;5;28;01mfrom\u001b[39;00m \u001b[38;5;21;01mjupyter_anywidget_pglite\u001b[39;00m\u001b[38;5;21;01m.\u001b[39;00m\u001b[38;5;21;01msqlalchemy_api\u001b[39;00m \u001b[38;5;28;01mimport\u001b[39;00m create_engine\n\u001b[1;32m      4\u001b[0m engine \u001b[38;5;241m=\u001b[39m create_engine(pg_headless)\n\u001b[0;32m----> 5\u001b[0m pd\u001b[38;5;241m.\u001b[39mread_sql(\u001b[38;5;124m\"\u001b[39m\u001b[38;5;124mSELECT * FROM test;\u001b[39m\u001b[38;5;124m\"\u001b[39m, \u001b[43mconn2\u001b[49m)\n",
      "\u001b[0;31mNameError\u001b[0m: name 'conn2' is not defined"
     ]
    }
   ],
   "source": [
    "# Minimal SQLAlchemy connection object support\n",
    "from jupyter_anywidget_pglite.sqlalchemy_api import create_engine\n",
    "\n",
    "engine = create_engine(pg_headless)\n",
    "pd.read_sql(\"SELECT * FROM test;\", conn2)"
   ]
  },
  {
   "cell_type": "code",
   "execution_count": 22,
   "metadata": {},
   "outputs": [
    {
     "data": {
      "text/plain": [
       "([{'name': 'id',\n",
       "   'type': Integer(),\n",
       "   'nullable': False,\n",
       "   'default': \"nextval('test_id_seq'::regclass)\"},\n",
       "  {'name': 'title', 'type': String(), 'nullable': False, 'default': None}],\n",
       " '-------',\n",
       " [],\n",
       " '-------',\n",
       " {'constrained_columns': ['id'], 'name': 'pk_test'},\n",
       " '------',\n",
       " [])"
      ]
     },
     "execution_count": 22,
     "metadata": {},
     "output_type": "execute_result"
    }
   ],
   "source": [
    "with engine.connect() as connection:\n",
    "    dialect = connection.dialect  # Get the PGLiteDialect instance\n",
    "    table_name = \"test\"  # Change this to the table you want to inspect\n",
    "\n",
    "    # Call get_columns() method\n",
    "    cols = dialect.get_columns(connection, table_name)\n",
    "    table_names = dialect.get_table_names(connection, table_name)\n",
    "    pk_constraint = dialect.get_pk_constraint(connection, table_name)\n",
    "    fk = dialect.get_foreign_keys(connection, table_name)\n",
    "cols, \"-------\", table_names, \"-------\", pk_constraint, \"------\", fk"
   ]
  },
  {
   "cell_type": "code",
   "execution_count": null,
   "metadata": {},
   "outputs": [
    {
     "data": {
      "text/plain": [
       "0"
      ]
     },
     "execution_count": 23,
     "metadata": {},
     "output_type": "execute_result"
    }
   ],
   "source": [
    "# What is this? A write test?\n",
    "# This will append if the table already exists;\n",
    "# but it won't currently create the table if it does not exist\n",
    "# and it won't delete the table (but will append) if if_exists=\"replace\"\n",
    "import pandas as pd\n",
    "\n",
    "pd.DataFrame({\"col1\": [1, 2, 3]}).to_sql(name=\"test2\", con=engine, if_exists=\"append\")"
   ]
  },
  {
   "cell_type": "code",
   "execution_count": 24,
   "metadata": {},
   "outputs": [
    {
     "data": {
      "text/plain": [
       "['test', 'test2']"
      ]
     },
     "execution_count": 24,
     "metadata": {},
     "output_type": "execute_result"
    }
   ],
   "source": [
    "from sqlalchemy import inspect\n",
    "\n",
    "inspector = inspect(engine)\n",
    "inspector.get_table_names()"
   ]
  },
  {
   "cell_type": "markdown",
   "metadata": {},
   "source": [
    "## Database persistence\n",
    "\n",
    "We can persist the database using a browser's `IndexedDB` datastore, passing the name of the indexed database via an `idb=` parameter (Jupyter browser-based UIs; does not work in VSCode).\n",
    "\n",
    "This parameter can also be used in the inline and panel display database creation steps."
   ]
  },
  {
   "cell_type": "code",
   "execution_count": null,
   "metadata": {},
   "outputs": [],
   "source": [
    "pg_headless_persist = pglite_headless(idb=\"pglitetest1\")"
   ]
  },
  {
   "cell_type": "code",
   "execution_count": null,
   "metadata": {},
   "outputs": [],
   "source": [
    "# Close / shutdown"
   ]
  },
  {
   "cell_type": "markdown",
   "metadata": {},
   "source": [
    "## Inline HTML Display (Initialising cell)\n",
    "\n",
    "We can display the widget inline as a cell output, althoug the utility of this is perhaps a little bit limited?"
   ]
  },
  {
   "cell_type": "code",
   "execution_count": 24,
   "metadata": {},
   "outputs": [
    {
     "name": "stdout",
     "output_type": "stream",
     "text": [
      "The jupyter_anywidget_pglite extension is already loaded. To reload it, use:\n",
      "  %reload_ext jupyter_anywidget_pglite\n"
     ]
    },
    {
     "data": {
      "application/vnd.jupyter.widget-view+json": {
       "model_id": "3e7fa0dd2fe746eca2bc59031ff1d2bd",
       "version_major": 2,
       "version_minor": 1
      },
      "text/plain": [
       "postgresWidget(response={'status': 'initialising'})"
      ]
     },
     "metadata": {},
     "output_type": "display_data"
    }
   ],
   "source": [
    "%load_ext jupyter_anywidget_pglite\n",
    "from jupyter_anywidget_pglite import pglite_inline\n",
    "\n",
    "pg_inline = pglite_inline()"
   ]
  },
  {
   "cell_type": "code",
   "execution_count": 25,
   "metadata": {},
   "outputs": [],
   "source": [
    "%%pglite_magic -w pg_inline\n",
    "CREATE TABLE IF NOT EXISTS test  (\n",
    "        id serial primary key,\n",
    "        title varchar not null\n",
    "      );"
   ]
  },
  {
   "cell_type": "code",
   "execution_count": 26,
   "metadata": {},
   "outputs": [],
   "source": [
    "%%pglite_magic\n",
    "INSERT INTO test (title) VALUES ('dummy_inline');"
   ]
  },
  {
   "cell_type": "code",
   "execution_count": 27,
   "metadata": {},
   "outputs": [
    {
     "name": "stderr",
     "output_type": "stream",
     "text": [
      "UsageError: unrecognized arguments: -D\n"
     ]
    }
   ],
   "source": [
    "%pglite_query -D -r -q 'SELECT * FROM test LIMIT 1;'"
   ]
  },
  {
   "cell_type": "code",
   "execution_count": 28,
   "metadata": {},
   "outputs": [
    {
     "data": {
      "text/plain": [
       "{'status': 'completed',\n",
       " 'response': {'rows': [], 'fields': [], 'affectedRows': 1},\n",
       " 'response_type': 'single'}"
      ]
     },
     "execution_count": 28,
     "metadata": {},
     "output_type": "execute_result"
    }
   ],
   "source": [
    "pg_inline.response"
   ]
  },
  {
   "cell_type": "markdown",
   "metadata": {},
   "source": [
    "## HTML in own panel\n",
    "\n",
    "In a Juoyter Lab environment, we can use [`jupyterlab-sidecar`](https://github.com/jupyter-widgets/jupyterlab-sidecar) to display the widget HTML UI in its own panel (note: this does not currently work at all in VS Code)."
   ]
  },
  {
   "cell_type": "code",
   "execution_count": 29,
   "metadata": {},
   "outputs": [
    {
     "name": "stdout",
     "output_type": "stream",
     "text": [
      "The jupyter_anywidget_pglite extension is already loaded. To reload it, use:\n",
      "  %reload_ext jupyter_anywidget_pglite\n"
     ]
    },
    {
     "ename": "TimeoutError",
     "evalue": "Action not completed within the specified timeout.",
     "output_type": "error",
     "traceback": [
      "\u001b[0;31m---------------------------------------------------------------------------\u001b[0m",
      "\u001b[0;31mTimeoutError\u001b[0m                              Traceback (most recent call last)",
      "Cell \u001b[0;32mIn[29], line 8\u001b[0m\n\u001b[1;32m      6\u001b[0m pg_panel \u001b[38;5;241m=\u001b[39m pglite_panel()\n\u001b[1;32m      7\u001b[0m \u001b[38;5;66;03m# Wait for it to be ready\u001b[39;00m\n\u001b[0;32m----> 8\u001b[0m \u001b[43mpg_panel\u001b[49m\u001b[38;5;241;43m.\u001b[39;49m\u001b[43mready\u001b[49m\u001b[43m(\u001b[49m\u001b[43m)\u001b[49m\n",
      "File \u001b[0;32m/Library/Frameworks/Python.framework/Versions/3.11/lib/python3.11/site-packages/jupyter_anywidget_pglite/__init__.py:153\u001b[0m, in \u001b[0;36mpostgresWidget.ready\u001b[0;34m(self, timeout)\u001b[0m\n\u001b[1;32m    152\u001b[0m \u001b[38;5;28;01mdef\u001b[39;00m \u001b[38;5;21mready\u001b[39m(\u001b[38;5;28mself\u001b[39m, timeout\u001b[38;5;241m=\u001b[39m\u001b[38;5;241m5\u001b[39m):\n\u001b[0;32m--> 153\u001b[0m     \u001b[38;5;28;43mself\u001b[39;49m\u001b[38;5;241;43m.\u001b[39;49m\u001b[43m_wait\u001b[49m\u001b[43m(\u001b[49m\u001b[43mtimeout\u001b[49m\u001b[43m,\u001b[49m\u001b[43m \u001b[49m\u001b[43m(\u001b[49m\u001b[38;5;124;43m\"\u001b[39;49m\u001b[38;5;124;43mstatus\u001b[39;49m\u001b[38;5;124;43m\"\u001b[39;49m\u001b[43m,\u001b[49m\u001b[43m \u001b[49m\u001b[38;5;124;43m\"\u001b[39;49m\u001b[38;5;124;43mready\u001b[39;49m\u001b[38;5;124;43m\"\u001b[39;49m\u001b[43m)\u001b[49m\u001b[43m)\u001b[49m\n",
      "File \u001b[0;32m/Library/Frameworks/Python.framework/Versions/3.11/lib/python3.11/site-packages/jupyter_anywidget_pglite/__init__.py:141\u001b[0m, in \u001b[0;36mpostgresWidget._wait\u001b[0;34m(self, timeout, conditions)\u001b[0m\n\u001b[1;32m    139\u001b[0m         ui_poll(\u001b[38;5;241m10\u001b[39m)\n\u001b[1;32m    140\u001b[0m         \u001b[38;5;28;01mif\u001b[39;00m timeout \u001b[38;5;129;01mand\u001b[39;00m time\u001b[38;5;241m.\u001b[39mtime() \u001b[38;5;241m-\u001b[39m start_time \u001b[38;5;241m>\u001b[39m timeout:\n\u001b[0;32m--> 141\u001b[0m             \u001b[38;5;28;01mraise\u001b[39;00m \u001b[38;5;167;01mTimeoutError\u001b[39;00m(\n\u001b[1;32m    142\u001b[0m                 \u001b[38;5;124m\"\u001b[39m\u001b[38;5;124mAction not completed within the specified timeout.\u001b[39m\u001b[38;5;124m\"\u001b[39m\n\u001b[1;32m    143\u001b[0m             )\n\u001b[1;32m    144\u001b[0m         time\u001b[38;5;241m.\u001b[39msleep(\u001b[38;5;241m0.1\u001b[39m)\n\u001b[1;32m    145\u001b[0m \u001b[38;5;28;01mif\u001b[39;00m \u001b[38;5;28mself\u001b[39m\u001b[38;5;241m.\u001b[39mresponse[\u001b[38;5;124m\"\u001b[39m\u001b[38;5;124mstatus\u001b[39m\u001b[38;5;124m\"\u001b[39m] \u001b[38;5;241m==\u001b[39m \u001b[38;5;124m\"\u001b[39m\u001b[38;5;124merror\u001b[39m\u001b[38;5;124m\"\u001b[39m:\n",
      "\u001b[0;31mTimeoutError\u001b[0m: Action not completed within the specified timeout."
     ]
    }
   ],
   "source": [
    "# Load in the widget panel\n",
    "%load_ext jupyter_anywidget_pglite\n",
    "from jupyter_anywidget_pglite import pglite_panel\n",
    "\n",
    "# Launch it\n",
    "pg_panel = pglite_panel()\n",
    "# Wait for it to be ready\n",
    "pg_panel.ready()"
   ]
  },
  {
   "cell_type": "code",
   "execution_count": null,
   "metadata": {},
   "outputs": [],
   "source": [
    "# About the db\n",
    "pg_panel.about"
   ]
  },
  {
   "cell_type": "code",
   "execution_count": null,
   "metadata": {},
   "outputs": [],
   "source": [
    "%%pglite_magic -w pg_panel\n",
    "CREATE TABLE IF NOT EXISTS test  (\n",
    "        id serial primary key,\n",
    "        title varchar not null\n",
    ")"
   ]
  },
  {
   "cell_type": "code",
   "execution_count": null,
   "metadata": {},
   "outputs": [],
   "source": [
    "# Response from db\n",
    "pg_panel.response"
   ]
  },
  {
   "cell_type": "code",
   "execution_count": null,
   "metadata": {},
   "outputs": [],
   "source": [
    "%%pglite_magic -r\n",
    "SELECT * FROM test;"
   ]
  },
  {
   "cell_type": "code",
   "execution_count": null,
   "metadata": {},
   "outputs": [],
   "source": [
    "%%pglite_magic\n",
    "INSERT INTO test (title) VALUES ('dummy_panel');"
   ]
  },
  {
   "cell_type": "code",
   "execution_count": null,
   "metadata": {},
   "outputs": [],
   "source": [
    "%pglite_query -t 15 -r -D -q 'SELECT * FROM test LIMIT 1;'"
   ]
  },
  {
   "cell_type": "code",
   "execution_count": null,
   "metadata": {},
   "outputs": [],
   "source": [
    "%%pglite_magic -m\n",
    "INSERT INTO test (title) VALUES ('dummy_panel1');\n",
    "INSERT INTO test (title) VALUES ('dummy_panel2');"
   ]
  },
  {
   "cell_type": "code",
   "execution_count": null,
   "metadata": {},
   "outputs": [],
   "source": [
    "%%pglite_magic -M\n",
    "INSERT INTO test (title) VALUES ('dummy_panel3');\n",
    "INSERT INTO test (title) VALUES ('dummy_panel4');"
   ]
  },
  {
   "cell_type": "code",
   "execution_count": null,
   "metadata": {},
   "outputs": [],
   "source": [
    "%%pglite_magic -r -d\n",
    "SELECT * FROM test;"
   ]
  },
  {
   "cell_type": "code",
   "execution_count": null,
   "metadata": {},
   "outputs": [],
   "source": [
    "pg_panel.df()"
   ]
  },
  {
   "cell_type": "code",
   "execution_count": null,
   "metadata": {},
   "outputs": [],
   "source": [
    "pg_panel.response"
   ]
  },
  {
   "cell_type": "code",
   "execution_count": null,
   "metadata": {},
   "outputs": [],
   "source": [
    "df = pg_panel.df()\n",
    "%pglite_df_insert -d df -t test"
   ]
  },
  {
   "cell_type": "code",
   "execution_count": null,
   "metadata": {},
   "outputs": [],
   "source": [
    "%%pglite_magic -r -d\n",
    "SELECT * FROM test;"
   ]
  },
  {
   "cell_type": "code",
   "execution_count": null,
   "metadata": {},
   "outputs": [],
   "source": [
    "pg_panel.close()"
   ]
  },
  {
   "cell_type": "code",
   "execution_count": null,
   "metadata": {},
   "outputs": [],
   "source": []
  }
 ],
 "metadata": {
  "kernelspec": {
   "display_name": "Python 3",
   "language": "python",
   "name": "python3"
  },
  "language_info": {
   "codemirror_mode": {
    "name": "ipython",
    "version": 3
   },
   "file_extension": ".py",
   "mimetype": "text/x-python",
   "name": "python",
   "nbconvert_exporter": "python",
   "pygments_lexer": "ipython3",
   "version": "3.11.0"
  }
 },
 "nbformat": 4,
 "nbformat_minor": 4
}
