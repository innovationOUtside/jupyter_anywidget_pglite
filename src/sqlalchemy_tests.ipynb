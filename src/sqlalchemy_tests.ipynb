{
 "cells": [
  {
   "cell_type": "markdown",
   "metadata": {},
   "source": [
    "# Informal tests of sqlalchemy wrapper"
   ]
  },
  {
   "cell_type": "code",
   "execution_count": 1,
   "metadata": {},
   "outputs": [
    {
     "data": {
      "application/vnd.jupyter.widget-view+json": {
       "model_id": "13357229f4d74be7a78e5b3c0b2a2796",
       "version_major": 2,
       "version_minor": 1
      },
      "text/plain": [
       "postgresWidget(headless=True, response={'status': 'initialising'})"
      ]
     },
     "metadata": {},
     "output_type": "display_data"
    }
   ],
   "source": [
    "%load_ext jupyter_anywidget_pglite\n",
    "from jupyter_anywidget_pglite import pglite_headless\n",
    "\n",
    "pg = pglite_headless()\n",
    "pg.ready()"
   ]
  },
  {
   "cell_type": "code",
   "execution_count": 2,
   "metadata": {},
   "outputs": [
    {
     "data": {
      "text/plain": [
       "{'status': 'completed',\n",
       " 'response': {'rows': [], 'fields': [], 'affectedRows': 0},\n",
       " 'response_type': 'single'}"
      ]
     },
     "execution_count": 2,
     "metadata": {},
     "output_type": "execute_result"
    }
   ],
   "source": [
    "%%pglite_magic -w pg -r\n",
    "CREATE TABLE IF NOT EXISTS users (\n",
    "            id SERIAL PRIMARY KEY ,\n",
    "            name TEXT NOT NULL\n",
    ")\n"
   ]
  },
  {
   "cell_type": "code",
   "execution_count": 3,
   "metadata": {},
   "outputs": [
    {
     "data": {
      "text/plain": [
       "{'status': 'completed',\n",
       " 'response': {'rows': [], 'fields': [], 'affectedRows': 0},\n",
       " 'response_type': 'single'}"
      ]
     },
     "execution_count": 3,
     "metadata": {},
     "output_type": "execute_result"
    }
   ],
   "source": [
    "%%pglite_magic -w pg -r\n",
    "        CREATE TABLE IF NOT EXISTS orders (\n",
    "            id SERIAL PRIMARY KEY,\n",
    "            user_id INTEGER NOT NULL,\n",
    "            product TEXT NOT NULL,\n",
    "            FOREIGN KEY (user_id) REFERENCES users(id) ON DELETE CASCADE\n",
    "        )"
   ]
  },
  {
   "cell_type": "code",
   "execution_count": 4,
   "metadata": {},
   "outputs": [
    {
     "data": {
      "text/plain": [
       "{'status': 'completed',\n",
       " 'response': {'rows': [], 'fields': [], 'affectedRows': 1},\n",
       " 'response_type': 'single'}"
      ]
     },
     "execution_count": 4,
     "metadata": {},
     "output_type": "execute_result"
    }
   ],
   "source": [
    "%%pglite_magic -w pg -r\n",
    "INSERT INTO users (id,name) VALUES (2, 'Alice');"
   ]
  },
  {
   "cell_type": "code",
   "execution_count": 5,
   "metadata": {},
   "outputs": [
    {
     "name": "stdout",
     "output_type": "stream",
     "text": [
      "Executing statement of type: <class 'str'>\n",
      "Statement is already a string: \n",
      "        SELECT 1 FROM information_schema.tables \n",
      "        WHERE table_name = 'SELECT * FROM users;' AND table_schema = 'public';\n",
      "        \n",
      "Executing query: \n",
      "        SELECT 1 FROM information_schema.tables \n",
      "        WHERE table_name = 'SELECT * FROM users;' AND table_schema = 'public';\n",
      "        \n",
      "Executing statement of type: <class 'str'>\n",
      "Statement is already a string: SELECT * FROM users;\n",
      "Executing query: SELECT * FROM users;\n"
     ]
    },
    {
     "data": {
      "application/vnd.microsoft.datawrangler.viewer.v0+json": {
       "columns": [
        {
         "name": "index",
         "rawType": "int64",
         "type": "integer"
        },
        {
         "name": "id",
         "rawType": "int64",
         "type": "integer"
        },
        {
         "name": "name",
         "rawType": "object",
         "type": "string"
        }
       ],
       "conversionMethod": "pd.DataFrame",
       "ref": "bf6750cf-b37f-4f3a-b4d5-5543a67754ab",
       "rows": [
        [
         "0",
         "2",
         "Alice"
        ]
       ],
       "shape": {
        "columns": 2,
        "rows": 1
       }
      },
      "text/html": [
       "<div>\n",
       "<style scoped>\n",
       "    .dataframe tbody tr th:only-of-type {\n",
       "        vertical-align: middle;\n",
       "    }\n",
       "\n",
       "    .dataframe tbody tr th {\n",
       "        vertical-align: top;\n",
       "    }\n",
       "\n",
       "    .dataframe thead th {\n",
       "        text-align: right;\n",
       "    }\n",
       "</style>\n",
       "<table border=\"1\" class=\"dataframe\">\n",
       "  <thead>\n",
       "    <tr style=\"text-align: right;\">\n",
       "      <th></th>\n",
       "      <th>id</th>\n",
       "      <th>name</th>\n",
       "    </tr>\n",
       "  </thead>\n",
       "  <tbody>\n",
       "    <tr>\n",
       "      <th>0</th>\n",
       "      <td>2</td>\n",
       "      <td>Alice</td>\n",
       "    </tr>\n",
       "  </tbody>\n",
       "</table>\n",
       "</div>"
      ],
      "text/plain": [
       "   id   name\n",
       "0   2  Alice"
      ]
     },
     "execution_count": 5,
     "metadata": {},
     "output_type": "execute_result"
    }
   ],
   "source": [
    "from jupyter_anywidget_pglite.sqlalchemy_api import create_engine\n",
    "import pandas as pd\n",
    "\n",
    "conn2 = create_engine(pg)\n",
    "pd.read_sql(\"SELECT * FROM users;\", conn2)"
   ]
  },
  {
   "cell_type": "code",
   "execution_count": 6,
   "metadata": {},
   "outputs": [],
   "source": [
    "from sqlalchemy import inspect\n",
    "\n",
    "inspector = inspect(conn2)"
   ]
  },
  {
   "cell_type": "code",
   "execution_count": 7,
   "metadata": {},
   "outputs": [
    {
     "name": "stdout",
     "output_type": "stream",
     "text": [
      "Executing statement of type: <class 'str'>\n",
      "Statement is already a string: SELECT tablename FROM pg_catalog.pg_tables WHERE schemaname = 'public';\n",
      "Executing query: SELECT tablename FROM pg_catalog.pg_tables WHERE schemaname = 'public';\n"
     ]
    },
    {
     "data": {
      "text/plain": [
       "['users', 'orders']"
      ]
     },
     "execution_count": 7,
     "metadata": {},
     "output_type": "execute_result"
    }
   ],
   "source": [
    "inspector.get_table_names()"
   ]
  },
  {
   "cell_type": "code",
   "execution_count": 8,
   "metadata": {},
   "outputs": [
    {
     "name": "stdout",
     "output_type": "stream",
     "text": [
      "Executing statement of type: <class 'str'>\n",
      "Statement is already a string: \n",
      "        SELECT 1 FROM information_schema.tables \n",
      "        WHERE table_name = 'users' AND table_schema = 'public';\n",
      "        \n",
      "Executing query: \n",
      "        SELECT 1 FROM information_schema.tables \n",
      "        WHERE table_name = 'users' AND table_schema = 'public';\n",
      "        \n"
     ]
    },
    {
     "name": "stdout",
     "output_type": "stream",
     "text": [
      "Executing statement of type: <class 'str'>\n",
      "Statement is already a string: \n",
      "        SELECT 1 FROM information_schema.tables \n",
      "        WHERE table_name = 'users2' AND table_schema = 'public';\n",
      "        \n",
      "Executing query: \n",
      "        SELECT 1 FROM information_schema.tables \n",
      "        WHERE table_name = 'users2' AND table_schema = 'public';\n",
      "        \n"
     ]
    },
    {
     "data": {
      "text/plain": [
       "(True, False)"
      ]
     },
     "execution_count": 8,
     "metadata": {},
     "output_type": "execute_result"
    }
   ],
   "source": [
    "inspector.has_table(\"users\"), inspector.has_table(\"users2\"),"
   ]
  },
  {
   "cell_type": "code",
   "execution_count": 9,
   "metadata": {},
   "outputs": [
    {
     "name": "stdout",
     "output_type": "stream",
     "text": [
      "Executing statement of type: <class 'str'>\n",
      "Statement is already a string: \n",
      "        SELECT column_name, data_type, is_nullable, column_default \n",
      "        FROM information_schema.columns \n",
      "        WHERE table_name = 'users'\n",
      "        AND table_schema = 'public';\n",
      "        \n",
      "Executing query: \n",
      "        SELECT column_name, data_type, is_nullable, column_default \n",
      "        FROM information_schema.columns \n",
      "        WHERE table_name = 'users'\n",
      "        AND table_schema = 'public';\n",
      "        \n"
     ]
    },
    {
     "data": {
      "text/plain": [
       "[{'name': 'id',\n",
       "  'type': Integer(),\n",
       "  'nullable': False,\n",
       "  'default': \"nextval('users_id_seq'::regclass)\"},\n",
       " {'name': 'name', 'type': String(), 'nullable': False, 'default': None}]"
      ]
     },
     "execution_count": 9,
     "metadata": {},
     "output_type": "execute_result"
    }
   ],
   "source": [
    "inspector.get_columns(\"users\")"
   ]
  },
  {
   "cell_type": "code",
   "execution_count": 10,
   "metadata": {},
   "outputs": [
    {
     "name": "stdout",
     "output_type": "stream",
     "text": [
      "Executing statement of type: <class 'str'>\n",
      "Statement is already a string: \n",
      "        SELECT kcu.column_name\n",
      "        FROM information_schema.table_constraints AS tc\n",
      "        JOIN information_schema.key_column_usage AS kcu \n",
      "            ON tc.constraint_name = kcu.constraint_name\n",
      "            AND tc.table_schema = kcu.table_schema\n",
      "        WHERE tc.constraint_type = 'PRIMARY KEY' \n",
      "            AND kcu.table_name = 'users'\n",
      "            AND kcu.table_schema = 'public';\n",
      "        \n",
      "Executing query: \n",
      "        SELECT kcu.column_name\n",
      "        FROM information_schema.table_constraints AS tc\n",
      "        JOIN information_schema.key_column_usage AS kcu \n",
      "            ON tc.constraint_name = kcu.constraint_name\n",
      "            AND tc.table_schema = kcu.table_schema\n",
      "        WHERE tc.constraint_type = 'PRIMARY KEY' \n",
      "            AND kcu.table_name = 'users'\n",
      "            AND kcu.table_schema = 'public';\n",
      "        \n"
     ]
    },
    {
     "data": {
      "text/plain": [
       "{'constrained_columns': ['id'], 'name': 'pk_users'}"
      ]
     },
     "execution_count": 10,
     "metadata": {},
     "output_type": "execute_result"
    }
   ],
   "source": [
    "inspector.get_pk_constraint(\"users\")"
   ]
  },
  {
   "cell_type": "code",
   "execution_count": 11,
   "metadata": {},
   "outputs": [
    {
     "name": "stdout",
     "output_type": "stream",
     "text": [
      "Executing statement of type: <class 'str'>\n",
      "Statement is already a string: \n",
      "        SELECT \n",
      "            kcu.column_name, \n",
      "            ccu.table_schema, \n",
      "            ccu.table_name, \n",
      "            ccu.column_name,\n",
      "            tc.constraint_name\n",
      "        FROM information_schema.table_constraints AS tc\n",
      "        JOIN information_schema.key_column_usage AS kcu \n",
      "            ON tc.constraint_name = kcu.constraint_name\n",
      "            AND tc.table_schema = kcu.table_schema\n",
      "        JOIN information_schema.constraint_column_usage AS ccu \n",
      "            ON ccu.constraint_name = tc.constraint_name\n",
      "            AND ccu.table_schema = tc.table_schema\n",
      "        WHERE tc.constraint_type = 'FOREIGN KEY' \n",
      "            AND kcu.table_name = 'orders'\n",
      "            AND kcu.table_schema = 'public';\n",
      "        \n",
      "Executing query: \n",
      "        SELECT \n",
      "            kcu.column_name, \n",
      "            ccu.table_schema, \n",
      "            ccu.table_name, \n",
      "            ccu.column_name,\n",
      "            tc.constraint_name\n",
      "        FROM information_schema.table_constraints AS tc\n",
      "        JOIN information_schema.key_column_usage AS kcu \n",
      "            ON tc.constraint_name = kcu.constraint_name\n",
      "            AND tc.table_schema = kcu.table_schema\n",
      "        JOIN information_schema.constraint_column_usage AS ccu \n",
      "            ON ccu.constraint_name = tc.constraint_name\n",
      "            AND ccu.table_schema = tc.table_schema\n",
      "        WHERE tc.constraint_type = 'FOREIGN KEY' \n",
      "            AND kcu.table_name = 'orders'\n",
      "            AND kcu.table_schema = 'public';\n",
      "        \n"
     ]
    },
    {
     "data": {
      "text/plain": [
       "[{'name': 'fk_orders_id',\n",
       "  'constrained_columns': ['id'],\n",
       "  'referred_schema': 'public',\n",
       "  'referred_table': 'users',\n",
       "  'referred_columns': ['orders_user_id_fkey']}]"
      ]
     },
     "execution_count": 11,
     "metadata": {},
     "output_type": "execute_result"
    }
   ],
   "source": [
    "inspector.get_foreign_keys(\"orders\")"
   ]
  },
  {
   "cell_type": "code",
   "execution_count": 12,
   "metadata": {},
   "outputs": [
    {
     "name": "stdout",
     "output_type": "stream",
     "text": [
      "Executing statement of type: <class 'str'>\n",
      "Statement is already a string: \n",
      "        SELECT indexname, indexdef\n",
      "        FROM pg_indexes\n",
      "        WHERE tablename = 'users' AND schemaname = 'public';\n",
      "        \n",
      "Executing query: \n",
      "        SELECT indexname, indexdef\n",
      "        FROM pg_indexes\n",
      "        WHERE tablename = 'users' AND schemaname = 'public';\n",
      "        \n"
     ]
    },
    {
     "data": {
      "text/plain": [
       "[{'name': 'users_pkey', 'column_names': ['id'], 'unique': True}]"
      ]
     },
     "execution_count": 12,
     "metadata": {},
     "output_type": "execute_result"
    }
   ],
   "source": [
    "inspector.get_indexes(\"users\")"
   ]
  },
  {
   "cell_type": "code",
   "execution_count": 13,
   "metadata": {},
   "outputs": [
    {
     "name": "stdout",
     "output_type": "stream",
     "text": [
      "Executing statement of type: <class 'str'>\n",
      "Statement is already a string: \n",
      "        SELECT tc.constraint_name, kcu.column_name\n",
      "        FROM information_schema.table_constraints AS tc\n",
      "        JOIN information_schema.key_column_usage AS kcu\n",
      "            ON tc.constraint_name = kcu.constraint_name\n",
      "        WHERE tc.constraint_type = 'UNIQUE'\n",
      "            AND tc.table_name = 'orders'\n",
      "            AND tc.table_schema = 'public'\n",
      "        ORDER BY tc.constraint_name, kcu.ordinal_position;\n",
      "        \n",
      "Executing query: \n",
      "        SELECT tc.constraint_name, kcu.column_name\n",
      "        FROM information_schema.table_constraints AS tc\n",
      "        JOIN information_schema.key_column_usage AS kcu\n",
      "            ON tc.constraint_name = kcu.constraint_name\n",
      "        WHERE tc.constraint_type = 'UNIQUE'\n",
      "            AND tc.table_name = 'orders'\n",
      "            AND tc.table_schema = 'public'\n",
      "        ORDER BY tc.constraint_name, kcu.ordinal_position;\n",
      "        \n"
     ]
    },
    {
     "data": {
      "text/plain": [
       "[]"
      ]
     },
     "execution_count": 13,
     "metadata": {},
     "output_type": "execute_result"
    }
   ],
   "source": [
    "inspector.get_unique_constraints(\"orders\")"
   ]
  },
  {
   "cell_type": "code",
   "execution_count": 14,
   "metadata": {},
   "outputs": [
    {
     "name": "stdout",
     "output_type": "stream",
     "text": [
      "Executing statement of type: <class 'str'>\n",
      "Statement is already a string: \n",
      "        SELECT conname, pg_get_expr(conbin, conrelid) AS consrc\n",
      "        FROM pg_constraint\n",
      "        WHERE conrelid = (\n",
      "            SELECT oid\n",
      "            FROM pg_class\n",
      "            WHERE relname = 'orders'\n",
      "            AND relnamespace = (\n",
      "                SELECT oid\n",
      "                FROM pg_namespace\n",
      "                WHERE nspname = 'public'\n",
      "            )\n",
      "        )\n",
      "        AND contype = 'c';\n",
      "        \n",
      "Executing query: \n",
      "        SELECT conname, pg_get_expr(conbin, conrelid) AS consrc\n",
      "        FROM pg_constraint\n",
      "        WHERE conrelid = (\n",
      "            SELECT oid\n",
      "            FROM pg_class\n",
      "            WHERE relname = 'orders'\n",
      "            AND relnamespace = (\n",
      "                SELECT oid\n",
      "                FROM pg_namespace\n",
      "                WHERE nspname = 'public'\n",
      "            )\n",
      "        )\n",
      "        AND contype = 'c';\n",
      "        \n"
     ]
    },
    {
     "data": {
      "text/plain": [
       "[]"
      ]
     },
     "execution_count": 14,
     "metadata": {},
     "output_type": "execute_result"
    }
   ],
   "source": [
    "inspector.get_check_constraints(\"orders\")"
   ]
  },
  {
   "cell_type": "code",
   "execution_count": null,
   "metadata": {},
   "outputs": [],
   "source": []
  }
 ],
 "metadata": {
  "kernelspec": {
   "display_name": "Python 3",
   "language": "python",
   "name": "python3"
  },
  "language_info": {
   "codemirror_mode": {
    "name": "ipython",
    "version": 3
   },
   "file_extension": ".py",
   "mimetype": "text/x-python",
   "name": "python",
   "nbconvert_exporter": "python",
   "pygments_lexer": "ipython3",
   "version": "3.11.0"
  }
 },
 "nbformat": 4,
 "nbformat_minor": 2
}
