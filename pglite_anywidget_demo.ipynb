{
 "cells": [
  {
   "cell_type": "markdown",
   "metadata": {},
   "source": [
    "# Jupyter pglite anywidget demo\n",
    "\n",
    "Demo of using `jupyterlite_anywidget_pglite` widget and magics.\n",
    "\n",
    "Works in:\n",
    "\n",
    "- Jupyter UIs (JupyterLab, Jupyter notebook)\n",
    "- VS Code (via Jupyter notebook support)"
   ]
  },
  {
   "cell_type": "markdown",
   "metadata": {},
   "source": [
    "## Headless Demo\n",
    "\n",
    "In the headless demo, no HTML UI elements are added to the DOM, but the `anywidget` machinery *is* added via a call to `IPython.display.display`."
   ]
  },
  {
   "cell_type": "code",
   "execution_count": 2,
   "metadata": {},
   "outputs": [
    {
     "name": "stdout",
     "output_type": "stream",
     "text": [
      "The jupyter_anywidget_pglite extension is already loaded. To reload it, use:\n",
      "  %reload_ext jupyter_anywidget_pglite\n"
     ]
    }
   ],
   "source": [
    "%load_ext jupyter_anywidget_pglite\n",
    "from jupyter_anywidget_pglite import pglite_headless"
   ]
  },
  {
   "cell_type": "code",
   "execution_count": 3,
   "metadata": {},
   "outputs": [
    {
     "data": {
      "application/vnd.jupyter.widget-view+json": {
       "model_id": "f1944e0b521b463ba8713330fd07b951",
       "version_major": 2,
       "version_minor": 1
      },
      "text/plain": [
       "postgresWidget(headless=True)"
      ]
     },
     "metadata": {},
     "output_type": "display_data"
    }
   ],
   "source": [
    "pg_headless = pglite_headless()"
   ]
  },
  {
   "cell_type": "code",
   "execution_count": 5,
   "metadata": {},
   "outputs": [],
   "source": [
    "%%pglite_magic pg_headless\n",
    "CREATE TABLE IF NOT EXISTS test  (\n",
    "        id serial primary key,\n",
    "        title varchar not null\n",
    "      );"
   ]
  },
  {
   "cell_type": "markdown",
   "metadata": {},
   "source": []
  },
  {
   "cell_type": "code",
   "execution_count": 6,
   "metadata": {},
   "outputs": [],
   "source": [
    "%%pglite_magic pg_headless\n",
    "INSERT INTO test (title) VALUES ('dummy_headless');\n"
   ]
  },
  {
   "cell_type": "code",
   "execution_count": 7,
   "metadata": {},
   "outputs": [],
   "source": [
    "%%pglite_magic pg_headless\n",
    "SELECT * FROM test;"
   ]
  },
  {
   "cell_type": "code",
   "execution_count": 8,
   "metadata": {},
   "outputs": [
    {
     "data": {
      "text/plain": [
       "{'rows': [{'id': 1, 'title': 'dummy'}],\n",
       " 'fields': [{'name': 'id', 'dataTypeID': 23},\n",
       "  {'name': 'title', 'dataTypeID': 1043}],\n",
       " 'affectedRows': 0}"
      ]
     },
     "execution_count": 8,
     "metadata": {},
     "output_type": "execute_result"
    }
   ],
   "source": [
    "pg_headless.response"
   ]
  },
  {
   "cell_type": "markdown",
   "metadata": {},
   "source": [
    "## Inline HTML Display (Initialising cell)\n",
    "\n",
    "We can display the widget inline as a cell output, althoug the utility of this is perhaps a little bit limited?"
   ]
  },
  {
   "cell_type": "code",
   "execution_count": 9,
   "metadata": {},
   "outputs": [
    {
     "data": {
      "application/vnd.jupyter.widget-view+json": {
       "model_id": "afa2afe4ef04450bbe8188074e285fb7",
       "version_major": 2,
       "version_minor": 1
      },
      "text/plain": [
       "postgresWidget()"
      ]
     },
     "metadata": {},
     "output_type": "display_data"
    }
   ],
   "source": [
    "from jupyter_anywidget_pglite import pglite_inline\n",
    "\n",
    "pg_inline = pglite_inline()"
   ]
  },
  {
   "cell_type": "code",
   "execution_count": 10,
   "metadata": {},
   "outputs": [],
   "source": [
    "%%pglite_magic pg_inline\n",
    "CREATE TABLE IF NOT EXISTS test  (\n",
    "        id serial primary key,\n",
    "        title varchar not null\n",
    "      );"
   ]
  },
  {
   "cell_type": "code",
   "execution_count": 11,
   "metadata": {},
   "outputs": [],
   "source": [
    "%%pglite_magic pg_inline\n",
    "INSERT INTO test (title) VALUES ('dummy_inline');"
   ]
  },
  {
   "cell_type": "code",
   "execution_count": 12,
   "metadata": {},
   "outputs": [],
   "source": [
    "%%pglite_magic pg_inline\n",
    "SELECT * FROM test;"
   ]
  },
  {
   "cell_type": "code",
   "execution_count": 13,
   "metadata": {},
   "outputs": [
    {
     "data": {
      "text/plain": [
       "{'rows': [{'id': 1, 'title': 'dummy'}],\n",
       " 'fields': [{'name': 'id', 'dataTypeID': 23},\n",
       "  {'name': 'title', 'dataTypeID': 1043}],\n",
       " 'affectedRows': 0}"
      ]
     },
     "execution_count": 13,
     "metadata": {},
     "output_type": "execute_result"
    }
   ],
   "source": [
    "pg_inline.response"
   ]
  },
  {
   "cell_type": "markdown",
   "metadata": {},
   "source": [
    "## HTML in own panel\n",
    "\n",
    "In a Juoyter Lab environment, we can use [`jupyterlab-sidecar`](https://github.com/jupyter-widgets/jupyterlab-sidecar) to display the widget HTML UI in its own panel (note: this does not currently work at all in VS Code)."
   ]
  },
  {
   "cell_type": "code",
   "execution_count": 14,
   "metadata": {},
   "outputs": [],
   "source": [
    "from jupyter_anywidget_pglite import pglite_panel\n",
    "\n",
    "pg_panel = pglite_panel()"
   ]
  },
  {
   "cell_type": "code",
   "execution_count": 15,
   "metadata": {},
   "outputs": [],
   "source": [
    "%%pglite_magic pg_panel\n",
    "CREATE TABLE IF NOT EXISTS test  (\n",
    "        id serial primary key,\n",
    "        title varchar not null"
   ]
  },
  {
   "cell_type": "code",
   "execution_count": 16,
   "metadata": {},
   "outputs": [],
   "source": [
    "%%pglite_magic pg_panel\n",
    "INSERT INTO test (title) VALUES ('dummy_panel');"
   ]
  },
  {
   "cell_type": "code",
   "execution_count": 17,
   "metadata": {},
   "outputs": [],
   "source": [
    "%%pglite_magic pg_panel\n",
    "SELECT * FROM test;"
   ]
  },
  {
   "cell_type": "code",
   "execution_count": 18,
   "metadata": {},
   "outputs": [
    {
     "data": {
      "text/plain": [
       "{}"
      ]
     },
     "execution_count": 18,
     "metadata": {},
     "output_type": "execute_result"
    }
   ],
   "source": [
    "pg_panel.response"
   ]
  }
 ],
 "metadata": {
  "kernelspec": {
   "display_name": "Python 3",
   "language": "python",
   "name": "python3"
  },
  "language_info": {
   "codemirror_mode": {
    "name": "ipython",
    "version": 3
   },
   "file_extension": ".py",
   "mimetype": "text/x-python",
   "name": "python",
   "nbconvert_exporter": "python",
   "pygments_lexer": "ipython3",
   "version": "3.11.0"
  }
 },
 "nbformat": 4,
 "nbformat_minor": 2
}
